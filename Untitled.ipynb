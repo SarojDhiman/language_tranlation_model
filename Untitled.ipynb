{
 "cells": [
  {
   "cell_type": "code",
   "execution_count": 1,
   "id": "8014d87b",
   "metadata": {},
   "outputs": [
    {
     "name": "stdout",
     "output_type": "stream",
     "text": [
      "                   english                  french\n",
      "0  English words/sentences  French words/sentences\n",
      "1                      Hi.                  Salut!\n",
      "2                     Run!                 Cours !\n",
      "3                     Run!                Courez !\n",
      "4                     Who?                   Qui ?\n",
      "\n",
      "\n",
      " Shape of the data >>(175622, 2)\n"
     ]
    },
    {
     "data": {
      "text/html": [
       "<div>\n",
       "<style scoped>\n",
       "    .dataframe tbody tr th:only-of-type {\n",
       "        vertical-align: middle;\n",
       "    }\n",
       "\n",
       "    .dataframe tbody tr th {\n",
       "        vertical-align: top;\n",
       "    }\n",
       "\n",
       "    .dataframe thead th {\n",
       "        text-align: right;\n",
       "    }\n",
       "</style>\n",
       "<table border=\"1\" class=\"dataframe\">\n",
       "  <thead>\n",
       "    <tr style=\"text-align: right;\">\n",
       "      <th></th>\n",
       "      <th>english</th>\n",
       "      <th>french</th>\n",
       "    </tr>\n",
       "  </thead>\n",
       "  <tbody>\n",
       "    <tr>\n",
       "      <th>135500</th>\n",
       "      <td>We asked everybody the same question.</td>\n",
       "      <td>Nous avons posé la même question à tout le monde.</td>\n",
       "    </tr>\n",
       "    <tr>\n",
       "      <th>164432</th>\n",
       "      <td>I've never seen anything more beautiful in my ...</td>\n",
       "      <td>Je n'ai jamais rien vu de plus beau de ma vie.</td>\n",
       "    </tr>\n",
       "    <tr>\n",
       "      <th>166516</th>\n",
       "      <td>People in these areas are growing hungrier eac...</td>\n",
       "      <td>Les habitants de ces zones souffrent de plus e...</td>\n",
       "    </tr>\n",
       "    <tr>\n",
       "      <th>100960</th>\n",
       "      <td>You're not ready yet, are you?</td>\n",
       "      <td>Vous n'êtes pas encore prête, n'est-ce pas ?</td>\n",
       "    </tr>\n",
       "    <tr>\n",
       "      <th>50832</th>\n",
       "      <td>Tom introduced himself.</td>\n",
       "      <td>Tom s'était présenté.</td>\n",
       "    </tr>\n",
       "  </tbody>\n",
       "</table>\n",
       "</div>"
      ],
      "text/plain": [
       "                                                  english  \\\n",
       "135500              We asked everybody the same question.   \n",
       "164432  I've never seen anything more beautiful in my ...   \n",
       "166516  People in these areas are growing hungrier eac...   \n",
       "100960                     You're not ready yet, are you?   \n",
       "50832                             Tom introduced himself.   \n",
       "\n",
       "                                                   french  \n",
       "135500  Nous avons posé la même question à tout le monde.  \n",
       "164432     Je n'ai jamais rien vu de plus beau de ma vie.  \n",
       "166516  Les habitants de ces zones souffrent de plus e...  \n",
       "100960       Vous n'êtes pas encore prête, n'est-ce pas ?  \n",
       "50832                               Tom s'était présenté.  "
      ]
     },
     "execution_count": 1,
     "metadata": {},
     "output_type": "execute_result"
    }
   ],
   "source": [
    "import pandas as pd\n",
    "df = pd.read_csv(\"eng_-french.csv\",names=['english','french'])\n",
    "print(df.head(5))\n",
    "\n",
    "print(f\"\\n\\n Shape of the data >>{df.shape}\")\n",
    "df.sample(5)"
   ]
  },
  {
   "cell_type": "code",
   "execution_count": 2,
   "id": "c8e3cc51",
   "metadata": {},
   "outputs": [
    {
     "name": "stdout",
     "output_type": "stream",
     "text": [
      "Unique values before dropping duplicates\n",
      "123101\n",
      "165976\n",
      "\n",
      "\n",
      "Unique values before dropping duplicates\n",
      "116544\n",
      "116544\n"
     ]
    }
   ],
   "source": [
    "# 2.Check Dataset\n",
    "\n",
    "# duplicates\n",
    "# NA values\n",
    "print(\"Unique values before dropping duplicates\")\n",
    "print(df.english.nunique())\n",
    "print(df.french.nunique())\n",
    "\n",
    "df.drop_duplicates(subset=['english'],inplace=True)\n",
    "df.drop_duplicates(subset=['french'],inplace=True)\n",
    "\n",
    "print(\"\\n\\nUnique values before dropping duplicates\")\n",
    "print(df.english.nunique())\n",
    "print(df.french.nunique())"
   ]
  },
  {
   "cell_type": "code",
   "execution_count": 3,
   "id": "98bf387d",
   "metadata": {},
   "outputs": [
    {
     "name": "stdout",
     "output_type": "stream",
     "text": [
      "Checking NA values\n",
      "\n",
      "english    False\n",
      "french     False\n",
      "dtype: bool \n",
      "\n",
      "english    0\n",
      "french     0\n",
      "dtype: int64\n"
     ]
    }
   ],
   "source": [
    "print(\"Checking NA values\\n\")\n",
    "print(df.isnull().any(),'\\n')\n",
    "print(df.isnull().sum())\n"
   ]
  },
  {
   "cell_type": "code",
   "execution_count": 4,
   "id": "4af5605b",
   "metadata": {},
   "outputs": [],
   "source": [
    "# 3.Preprocessing Text\n",
    "\n",
    "# lowercase for both\n",
    "# drop stopwords for only english -> let's not remove stopwords\n",
    "# drop .'!#$%&\\'()*+,-./:;<=>?@[\\]^ `{|}~\n",
    "# switch contractions for eng\n"
   ]
  },
  {
   "cell_type": "code",
   "execution_count": 5,
   "id": "a255052a",
   "metadata": {},
   "outputs": [
    {
     "name": "stdout",
     "output_type": "stream",
     "text": [
      "before preprocessing\n"
     ]
    },
    {
     "data": {
      "text/html": [
       "<div>\n",
       "<style scoped>\n",
       "    .dataframe tbody tr th:only-of-type {\n",
       "        vertical-align: middle;\n",
       "    }\n",
       "\n",
       "    .dataframe tbody tr th {\n",
       "        vertical-align: top;\n",
       "    }\n",
       "\n",
       "    .dataframe thead th {\n",
       "        text-align: right;\n",
       "    }\n",
       "</style>\n",
       "<table border=\"1\" class=\"dataframe\">\n",
       "  <thead>\n",
       "    <tr style=\"text-align: right;\">\n",
       "      <th></th>\n",
       "      <th>english</th>\n",
       "      <th>french</th>\n",
       "    </tr>\n",
       "  </thead>\n",
       "  <tbody>\n",
       "    <tr>\n",
       "      <th>175616</th>\n",
       "      <td>We need to uphold laws against discrimination ...</td>\n",
       "      <td>Nous devons faire respecter les lois contre la...</td>\n",
       "    </tr>\n",
       "    <tr>\n",
       "      <th>175617</th>\n",
       "      <td>Top-down economics never works, said Obama. \"T...</td>\n",
       "      <td>« L'économie en partant du haut vers le bas, ç...</td>\n",
       "    </tr>\n",
       "    <tr>\n",
       "      <th>175618</th>\n",
       "      <td>A carbon footprint is the amount of carbon dio...</td>\n",
       "      <td>Une empreinte carbone est la somme de pollutio...</td>\n",
       "    </tr>\n",
       "    <tr>\n",
       "      <th>175619</th>\n",
       "      <td>Death is something that we're often discourage...</td>\n",
       "      <td>La mort est une chose qu'on nous décourage sou...</td>\n",
       "    </tr>\n",
       "    <tr>\n",
       "      <th>175620</th>\n",
       "      <td>Since there are usually multiple websites on a...</td>\n",
       "      <td>Puisqu'il y a de multiples sites web sur chaqu...</td>\n",
       "    </tr>\n",
       "    <tr>\n",
       "      <th>175621</th>\n",
       "      <td>If someone who doesn't know your background sa...</td>\n",
       "      <td>Si quelqu'un qui ne connaît pas vos antécédent...</td>\n",
       "    </tr>\n",
       "  </tbody>\n",
       "</table>\n",
       "</div>"
      ],
      "text/plain": [
       "                                                  english  \\\n",
       "175616  We need to uphold laws against discrimination ...   \n",
       "175617  Top-down economics never works, said Obama. \"T...   \n",
       "175618  A carbon footprint is the amount of carbon dio...   \n",
       "175619  Death is something that we're often discourage...   \n",
       "175620  Since there are usually multiple websites on a...   \n",
       "175621  If someone who doesn't know your background sa...   \n",
       "\n",
       "                                                   french  \n",
       "175616  Nous devons faire respecter les lois contre la...  \n",
       "175617  « L'économie en partant du haut vers le bas, ç...  \n",
       "175618  Une empreinte carbone est la somme de pollutio...  \n",
       "175619  La mort est une chose qu'on nous décourage sou...  \n",
       "175620  Puisqu'il y a de multiples sites web sur chaqu...  \n",
       "175621  Si quelqu'un qui ne connaît pas vos antécédent...  "
      ]
     },
     "execution_count": 5,
     "metadata": {},
     "output_type": "execute_result"
    }
   ],
   "source": [
    "print(\"before preprocessing\")\n",
    "df.tail(6)"
   ]
  },
  {
   "cell_type": "code",
   "execution_count": 9,
   "id": "f1bed67e",
   "metadata": {},
   "outputs": [
    {
     "data": {
      "text/plain": [
       "(116544, 2)"
      ]
     },
     "execution_count": 9,
     "metadata": {},
     "output_type": "execute_result"
    }
   ],
   "source": [
    "df.shape"
   ]
  },
  {
   "cell_type": "code",
   "execution_count": 11,
   "id": "bb13bf30",
   "metadata": {},
   "outputs": [],
   "source": [
    "english_text = df['english']\n",
    "french_text = df['french']"
   ]
  },
  {
   "cell_type": "code",
   "execution_count": 15,
   "id": "ba9e66a6",
   "metadata": {},
   "outputs": [
    {
     "data": {
      "text/plain": [
       "0                                   English words/sentences\n",
       "1                                                       Hi.\n",
       "2                                                      Run!\n",
       "4                                                      Who?\n",
       "5                                                      Wow!\n",
       "                                ...                        \n",
       "175617    Top-down economics never works, said Obama. \"T...\n",
       "175618    A carbon footprint is the amount of carbon dio...\n",
       "175619    Death is something that we're often discourage...\n",
       "175620    Since there are usually multiple websites on a...\n",
       "175621    If someone who doesn't know your background sa...\n",
       "Name: english, Length: 116544, dtype: object"
      ]
     },
     "execution_count": 15,
     "metadata": {},
     "output_type": "execute_result"
    }
   ],
   "source": [
    "english_text"
   ]
  },
  {
   "cell_type": "code",
   "execution_count": 12,
   "id": "8b42b92f",
   "metadata": {},
   "outputs": [
    {
     "data": {
      "text/plain": [
       "0                                    French words/sentences\n",
       "1                                                    Salut!\n",
       "2                                                   Cours !\n",
       "4                                                     Qui ?\n",
       "5                                                Ça alors !\n",
       "                                ...                        \n",
       "175617    « L'économie en partant du haut vers le bas, ç...\n",
       "175618    Une empreinte carbone est la somme de pollutio...\n",
       "175619    La mort est une chose qu'on nous décourage sou...\n",
       "175620    Puisqu'il y a de multiples sites web sur chaqu...\n",
       "175621    Si quelqu'un qui ne connaît pas vos antécédent...\n",
       "Name: french, Length: 116544, dtype: object"
      ]
     },
     "execution_count": 12,
     "metadata": {},
     "output_type": "execute_result"
    }
   ],
   "source": [
    "french_text"
   ]
  },
  {
   "cell_type": "code",
   "execution_count": 14,
   "id": "099c183f",
   "metadata": {},
   "outputs": [
    {
     "ename": "KeyError",
     "evalue": "3",
     "output_type": "error",
     "traceback": [
      "\u001b[1;31m---------------------------------------------------------------------------\u001b[0m",
      "\u001b[1;31mKeyError\u001b[0m                                  Traceback (most recent call last)",
      "File \u001b[1;32m~\\AppData\\Local\\Programs\\Python\\Python310\\lib\\site-packages\\pandas\\core\\indexes\\base.py:3803\u001b[0m, in \u001b[0;36mIndex.get_loc\u001b[1;34m(self, key, method, tolerance)\u001b[0m\n\u001b[0;32m   3802\u001b[0m \u001b[38;5;28;01mtry\u001b[39;00m:\n\u001b[1;32m-> 3803\u001b[0m     \u001b[38;5;28;01mreturn\u001b[39;00m \u001b[38;5;28;43mself\u001b[39;49m\u001b[38;5;241;43m.\u001b[39;49m\u001b[43m_engine\u001b[49m\u001b[38;5;241;43m.\u001b[39;49m\u001b[43mget_loc\u001b[49m\u001b[43m(\u001b[49m\u001b[43mcasted_key\u001b[49m\u001b[43m)\u001b[49m\n\u001b[0;32m   3804\u001b[0m \u001b[38;5;28;01mexcept\u001b[39;00m \u001b[38;5;167;01mKeyError\u001b[39;00m \u001b[38;5;28;01mas\u001b[39;00m err:\n",
      "File \u001b[1;32m~\\AppData\\Local\\Programs\\Python\\Python310\\lib\\site-packages\\pandas\\_libs\\index.pyx:138\u001b[0m, in \u001b[0;36mpandas._libs.index.IndexEngine.get_loc\u001b[1;34m()\u001b[0m\n",
      "File \u001b[1;32m~\\AppData\\Local\\Programs\\Python\\Python310\\lib\\site-packages\\pandas\\_libs\\index.pyx:165\u001b[0m, in \u001b[0;36mpandas._libs.index.IndexEngine.get_loc\u001b[1;34m()\u001b[0m\n",
      "File \u001b[1;32mpandas\\_libs\\hashtable_class_helper.pxi:2263\u001b[0m, in \u001b[0;36mpandas._libs.hashtable.Int64HashTable.get_item\u001b[1;34m()\u001b[0m\n",
      "File \u001b[1;32mpandas\\_libs\\hashtable_class_helper.pxi:2273\u001b[0m, in \u001b[0;36mpandas._libs.hashtable.Int64HashTable.get_item\u001b[1;34m()\u001b[0m\n",
      "\u001b[1;31mKeyError\u001b[0m: 3",
      "\nThe above exception was the direct cause of the following exception:\n",
      "\u001b[1;31mKeyError\u001b[0m                                  Traceback (most recent call last)",
      "Cell \u001b[1;32mIn [14], line 5\u001b[0m\n\u001b[0;32m      3\u001b[0m french \u001b[38;5;241m=\u001b[39m []\n\u001b[0;32m      4\u001b[0m \u001b[38;5;28;01mfor\u001b[39;00m i \u001b[38;5;129;01min\u001b[39;00m \u001b[38;5;28mrange\u001b[39m(\u001b[38;5;28mlen\u001b[39m(english_text)):\n\u001b[1;32m----> 5\u001b[0m     text \u001b[38;5;241m=\u001b[39m \u001b[43menglish_text\u001b[49m\u001b[43m[\u001b[49m\u001b[43mi\u001b[49m\u001b[43m]\u001b[49m\u001b[38;5;241m.\u001b[39mlower()\n\u001b[0;32m      6\u001b[0m     text \u001b[38;5;241m=\u001b[39m re\u001b[38;5;241m.\u001b[39msub(\u001b[38;5;124m'\u001b[39m\u001b[38;5;124m[^a-zA-Z]\u001b[39m\u001b[38;5;124m'\u001b[39m,\u001b[38;5;124m'\u001b[39m\u001b[38;5;124m \u001b[39m\u001b[38;5;124m'\u001b[39m,text)\n\u001b[0;32m      7\u001b[0m     english\u001b[38;5;241m.\u001b[39mappend(text)\n",
      "File \u001b[1;32m~\\AppData\\Local\\Programs\\Python\\Python310\\lib\\site-packages\\pandas\\core\\series.py:981\u001b[0m, in \u001b[0;36mSeries.__getitem__\u001b[1;34m(self, key)\u001b[0m\n\u001b[0;32m    978\u001b[0m     \u001b[38;5;28;01mreturn\u001b[39;00m \u001b[38;5;28mself\u001b[39m\u001b[38;5;241m.\u001b[39m_values[key]\n\u001b[0;32m    980\u001b[0m \u001b[38;5;28;01melif\u001b[39;00m key_is_scalar:\n\u001b[1;32m--> 981\u001b[0m     \u001b[38;5;28;01mreturn\u001b[39;00m \u001b[38;5;28;43mself\u001b[39;49m\u001b[38;5;241;43m.\u001b[39;49m\u001b[43m_get_value\u001b[49m\u001b[43m(\u001b[49m\u001b[43mkey\u001b[49m\u001b[43m)\u001b[49m\n\u001b[0;32m    983\u001b[0m \u001b[38;5;28;01mif\u001b[39;00m is_hashable(key):\n\u001b[0;32m    984\u001b[0m     \u001b[38;5;66;03m# Otherwise index.get_value will raise InvalidIndexError\u001b[39;00m\n\u001b[0;32m    985\u001b[0m     \u001b[38;5;28;01mtry\u001b[39;00m:\n\u001b[0;32m    986\u001b[0m         \u001b[38;5;66;03m# For labels that don't resolve as scalars like tuples and frozensets\u001b[39;00m\n",
      "File \u001b[1;32m~\\AppData\\Local\\Programs\\Python\\Python310\\lib\\site-packages\\pandas\\core\\series.py:1089\u001b[0m, in \u001b[0;36mSeries._get_value\u001b[1;34m(self, label, takeable)\u001b[0m\n\u001b[0;32m   1086\u001b[0m     \u001b[38;5;28;01mreturn\u001b[39;00m \u001b[38;5;28mself\u001b[39m\u001b[38;5;241m.\u001b[39m_values[label]\n\u001b[0;32m   1088\u001b[0m \u001b[38;5;66;03m# Similar to Index.get_value, but we do not fall back to positional\u001b[39;00m\n\u001b[1;32m-> 1089\u001b[0m loc \u001b[38;5;241m=\u001b[39m \u001b[38;5;28;43mself\u001b[39;49m\u001b[38;5;241;43m.\u001b[39;49m\u001b[43mindex\u001b[49m\u001b[38;5;241;43m.\u001b[39;49m\u001b[43mget_loc\u001b[49m\u001b[43m(\u001b[49m\u001b[43mlabel\u001b[49m\u001b[43m)\u001b[49m\n\u001b[0;32m   1090\u001b[0m \u001b[38;5;28;01mreturn\u001b[39;00m \u001b[38;5;28mself\u001b[39m\u001b[38;5;241m.\u001b[39mindex\u001b[38;5;241m.\u001b[39m_get_values_for_loc(\u001b[38;5;28mself\u001b[39m, loc, label)\n",
      "File \u001b[1;32m~\\AppData\\Local\\Programs\\Python\\Python310\\lib\\site-packages\\pandas\\core\\indexes\\base.py:3805\u001b[0m, in \u001b[0;36mIndex.get_loc\u001b[1;34m(self, key, method, tolerance)\u001b[0m\n\u001b[0;32m   3803\u001b[0m     \u001b[38;5;28;01mreturn\u001b[39;00m \u001b[38;5;28mself\u001b[39m\u001b[38;5;241m.\u001b[39m_engine\u001b[38;5;241m.\u001b[39mget_loc(casted_key)\n\u001b[0;32m   3804\u001b[0m \u001b[38;5;28;01mexcept\u001b[39;00m \u001b[38;5;167;01mKeyError\u001b[39;00m \u001b[38;5;28;01mas\u001b[39;00m err:\n\u001b[1;32m-> 3805\u001b[0m     \u001b[38;5;28;01mraise\u001b[39;00m \u001b[38;5;167;01mKeyError\u001b[39;00m(key) \u001b[38;5;28;01mfrom\u001b[39;00m \u001b[38;5;21;01merr\u001b[39;00m\n\u001b[0;32m   3806\u001b[0m \u001b[38;5;28;01mexcept\u001b[39;00m \u001b[38;5;167;01mTypeError\u001b[39;00m:\n\u001b[0;32m   3807\u001b[0m     \u001b[38;5;66;03m# If we have a listlike key, _check_indexing_error will raise\u001b[39;00m\n\u001b[0;32m   3808\u001b[0m     \u001b[38;5;66;03m#  InvalidIndexError. Otherwise we fall through and re-raise\u001b[39;00m\n\u001b[0;32m   3809\u001b[0m     \u001b[38;5;66;03m#  the TypeError.\u001b[39;00m\n\u001b[0;32m   3810\u001b[0m     \u001b[38;5;28mself\u001b[39m\u001b[38;5;241m.\u001b[39m_check_indexing_error(key)\n",
      "\u001b[1;31mKeyError\u001b[0m: 3"
     ]
    }
   ],
   "source": [
    "import re\n",
    "english = []\n",
    "french = []\n",
    "for i in range(len(english_text)):\n",
    "    text = english_text[i].lower()\n",
    "    text = re.sub('[^a-zA-Z]',' ',text)\n",
    "    english.append(text)\n",
    "    \n",
    "\n",
    "for i in range(len(french_text)):\n",
    "    ftext = french_text[i].lower()\n",
    "    ftext = (re.sub(\"[^a-zA-Z' àâäèéêëîïôœùûüÿçÀÂÄÈÉÊËÎÏÔŒÙÛÜŸÇ]\",' ',ftext))\n",
    "    french.append(\"START_ \" + ftext + \" _END\")"
   ]
  },
  {
   "cell_type": "code",
   "execution_count": null,
   "id": "ab98ce26",
   "metadata": {},
   "outputs": [],
   "source": []
  }
 ],
 "metadata": {
  "kernelspec": {
   "display_name": "Python 3 (ipykernel)",
   "language": "python",
   "name": "python3"
  },
  "language_info": {
   "codemirror_mode": {
    "name": "ipython",
    "version": 3
   },
   "file_extension": ".py",
   "mimetype": "text/x-python",
   "name": "python",
   "nbconvert_exporter": "python",
   "pygments_lexer": "ipython3",
   "version": "3.10.7"
  }
 },
 "nbformat": 4,
 "nbformat_minor": 5
}
